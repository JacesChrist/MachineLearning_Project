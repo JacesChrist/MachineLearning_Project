{
 "cells": [
  {
   "cell_type": "code",
   "execution_count": 1,
   "metadata": {},
   "outputs": [
    {
     "name": "stdout",
     "output_type": "stream",
     "text": [
      "Requirement already satisfied: pytorch-pretrained-biggan in c:\\users\\isnob\\anaconda3\\lib\\site-packages (0.1.1)\n",
      "Requirement already satisfied: tqdm in c:\\users\\isnob\\anaconda3\\lib\\site-packages (from pytorch-pretrained-biggan) (4.36.1)\n",
      "Requirement already satisfied: torch>=0.4.1 in c:\\users\\isnob\\anaconda3\\lib\\site-packages (from pytorch-pretrained-biggan) (1.3.1)\n",
      "Requirement already satisfied: boto3 in c:\\users\\isnob\\anaconda3\\lib\\site-packages (from pytorch-pretrained-biggan) (1.11.9)\n",
      "Requirement already satisfied: numpy in c:\\users\\isnob\\anaconda3\\lib\\site-packages (from pytorch-pretrained-biggan) (1.16.5)\n",
      "Requirement already satisfied: requests in c:\\users\\isnob\\anaconda3\\lib\\site-packages (from pytorch-pretrained-biggan) (2.22.0)\n",
      "Requirement already satisfied: s3transfer<0.4.0,>=0.3.0 in c:\\users\\isnob\\anaconda3\\lib\\site-packages (from boto3->pytorch-pretrained-biggan) (0.3.2)\n",
      "Requirement already satisfied: jmespath<1.0.0,>=0.7.1 in c:\\users\\isnob\\anaconda3\\lib\\site-packages (from boto3->pytorch-pretrained-biggan) (0.9.4)\n",
      "Requirement already satisfied: botocore<1.15.0,>=1.14.9 in c:\\users\\isnob\\anaconda3\\lib\\site-packages (from boto3->pytorch-pretrained-biggan) (1.14.9)\n",
      "Requirement already satisfied: idna<2.9,>=2.5 in c:\\users\\isnob\\anaconda3\\lib\\site-packages (from requests->pytorch-pretrained-biggan) (2.8)\n",
      "Requirement already satisfied: urllib3!=1.25.0,!=1.25.1,<1.26,>=1.21.1 in c:\\users\\isnob\\anaconda3\\lib\\site-packages (from requests->pytorch-pretrained-biggan) (1.24.2)\n",
      "Requirement already satisfied: certifi>=2017.4.17 in c:\\users\\isnob\\anaconda3\\lib\\site-packages (from requests->pytorch-pretrained-biggan) (2019.9.11)\n",
      "Requirement already satisfied: chardet<3.1.0,>=3.0.2 in c:\\users\\isnob\\anaconda3\\lib\\site-packages (from requests->pytorch-pretrained-biggan) (3.0.4)\n",
      "Requirement already satisfied: python-dateutil<3.0.0,>=2.1 in c:\\users\\isnob\\anaconda3\\lib\\site-packages (from botocore<1.15.0,>=1.14.9->boto3->pytorch-pretrained-biggan) (2.8.0)\n",
      "Requirement already satisfied: docutils<0.16,>=0.10 in c:\\users\\isnob\\anaconda3\\lib\\site-packages (from botocore<1.15.0,>=1.14.9->boto3->pytorch-pretrained-biggan) (0.15.2)\n",
      "Requirement already satisfied: six>=1.5 in c:\\users\\isnob\\anaconda3\\lib\\site-packages (from python-dateutil<3.0.0,>=2.1->botocore<1.15.0,>=1.14.9->boto3->pytorch-pretrained-biggan) (1.12.0)\n"
     ]
    },
    {
     "name": "stderr",
     "output_type": "stream",
     "text": [
      "WARNING: You are using pip version 19.3.1; however, version 20.0.2 is available.\n",
      "You should consider upgrading via the 'python -m pip install --upgrade pip' command.\n"
     ]
    }
   ],
   "source": [
    "!pip3 install pytorch-pretrained-biggan"
   ]
  },
  {
   "cell_type": "code",
   "execution_count": 6,
   "metadata": {},
   "outputs": [],
   "source": [
    "import numpy as np, pandas as pd, os\n",
    "import os, torch, gc\n",
    "from PIL import Image\n",
    "import matplotlib.pyplot as plt\n",
    "from pytorch_pretrained_biggan import BigGAN, truncated_noise_sample\n",
    "\n",
    "# LOAD PRETRAINED BIGGAN-DEEP-128\n",
    "model = BigGAN.from_pretrained('biggan-deep-256')"
   ]
  },
  {
   "cell_type": "code",
   "execution_count": null,
   "metadata": {},
   "outputs": [],
   "source": []
  },
  {
   "cell_type": "code",
   "execution_count": 4,
   "metadata": {},
   "outputs": [],
   "source": []
  },
  {
   "cell_type": "code",
   "execution_count": 15,
   "metadata": {},
   "outputs": [],
   "source": [
    "indexs=[]\n",
    "tmp=range(151,275)\n",
    "for x in tmp:\n",
    "    indexs.append(x)\n",
    "indexs.remove(251)\n",
    "indexs.remove(269)\n",
    "indexs.remove(270)\n",
    "indexs.remove(271)\n",
    "indexs.remove(272)\n",
    "indexs.append(275)"
   ]
  },
  {
   "cell_type": "code",
   "execution_count": 16,
   "metadata": {},
   "outputs": [
    {
     "name": "stdout",
     "output_type": "stream",
     "text": [
      "[151, 152, 153, 154, 155, 156, 157, 158, 159, 160, 161, 162, 163, 164, 165, 166, 167, 168, 169, 170, 171, 172, 173, 174, 175, 176, 177, 178, 179, 180, 181, 182, 183, 184, 185, 186, 187, 188, 189, 190, 191, 192, 193, 194, 195, 196, 197, 198, 199, 200, 201, 202, 203, 204, 205, 206, 207, 208, 209, 210, 211, 212, 213, 214, 215, 216, 217, 218, 219, 220, 221, 222, 223, 224, 225, 226, 227, 228, 229, 230, 231, 232, 233, 234, 235, 236, 237, 238, 239, 240, 241, 242, 243, 244, 245, 246, 247, 248, 249, 250, 252, 253, 254, 255, 256, 257, 258, 259, 260, 261, 262, 263, 264, 265, 266, 267, 268, 273, 274]\n"
     ]
    }
   ],
   "source": [
    "print(indexs)"
   ]
  },
  {
   "cell_type": "code",
   "execution_count": null,
   "metadata": {},
   "outputs": [],
   "source": []
  },
  {
   "cell_type": "code",
   "execution_count": 33,
   "metadata": {},
   "outputs": [],
   "source": [
    "\n",
    "os.mkdir('./dataset_augmentated')\n",
    "os.mkdir('./dataset_augmentated/images/')\n",
    "SAMPLES = 25\n",
    "iteration=10 #samples*iteration=quante img per classe\n",
    "cont=0\n",
    "for class_ind in indexs:\n",
    "    # TRUNCATION VARIABLE AFFECTS QUALITY AND DIVERSITY\n",
    "    truncation=0.9\n",
    "    os.mkdir('./dataset_augmentated/images/'+str(class_ind))\n",
    "    for i in range(iteration): # 25 alla volta per 10 volte,per evitare di andare cuda out of memory\n",
    "        # GENERATE SAMPLES\n",
    "        #truncation=np.random.randint(3,11)\n",
    "        #truncation=truncation/10\n",
    "        class_vector = np.zeros((SAMPLES,1000),dtype=np.float32)\n",
    "        for x in range(SAMPLES): \n",
    "            class_vector[x,class_ind]=1 #(281,294) are cats (151,281) dog\n",
    "            # CATEGORY LIST HERE: https://gist.github.com/yrevar/942d3a0ac09ec9e5eb3a\n",
    "        noise_vector = truncated_noise_sample(truncation=truncation, batch_size=SAMPLES)\n",
    "        noise_vector = torch.from_numpy(noise_vector)\n",
    "        class_vector = torch.from_numpy(class_vector)\n",
    "\n",
    "        # If you have a GPU, put everything on cuda\n",
    "        noise_vector = noise_vector.to('cuda')\n",
    "        class_vector = class_vector.to('cuda')\n",
    "        model.to('cuda')\n",
    "\n",
    "        # Generate an image\n",
    "        with torch.no_grad():\n",
    "            output = model(noise_vector, class_vector, truncation)\n",
    "\n",
    "            # If you have a GPU put back on CPU\n",
    "        output = output.to('cpu')\n",
    "        output = output.numpy().transpose(0, 2, 3, 1)\n",
    "        for j in range(SAMPLES):\n",
    "            cont+=1\n",
    "            img = Image.fromarray( ((output[j,]+1.)/2.*255).astype('uint8') )\n",
    "            img = img.resize((256,256), Image.ANTIALIAS)\n",
    "            img.save('./dataset_augmentated/images/'+str(class_ind)+'/'+str(cont)+'.png','PNG')"
   ]
  },
  {
   "cell_type": "code",
   "execution_count": 30,
   "metadata": {},
   "outputs": [],
   "source": [
    "#clean old dataset\n"
   ]
  },
  {
   "cell_type": "code",
   "execution_count": 58,
   "metadata": {},
   "outputs": [],
   "source": [
    "stock_dir_name=os.listdir('./dataset_clean/images')\n",
    "cleaned_name=[]\n",
    "for name in stock_dir_name:\n",
    "    name=name.split('-',1)[1:][0]\n",
    "    cleaned_name.append(name)\n",
    "\n",
    "\n",
    "for name,clean in zip(stock_dir_name,cleaned_name):\n",
    "    os.rename('./dataset_clean/images/'+name,'./dataset_clean/images/'+clean)"
   ]
  },
  {
   "cell_type": "code",
   "execution_count": 59,
   "metadata": {},
   "outputs": [],
   "source": [
    "#rename new dataset"
   ]
  },
  {
   "cell_type": "code",
   "execution_count": 62,
   "metadata": {},
   "outputs": [
    {
     "name": "stdout",
     "output_type": "stream",
     "text": [
      "['151', '152', '153', '154', '155', '156', '157', '158', '159', '160', '161', '162', '163', '164', '165', '166', '167', '168', '169', '170', '171', '172', '173', '174', '175', '176', '177', '178', '179', '180', '181', '182', '183', '184', '185', '186', '187', '188', '189', '190', '191', '192', '193', '194', '195', '196', '197', '198', '199', '200', '201', '202', '203', '204', '205', '206', '207', '208', '209', '210', '211', '212', '213', '214', '215', '216', '217', '218', '219', '220', '221', '222', '223', '224', '225', '226', '227', '228', '229', '230', '231', '232', '233', '234', '235', '236', '237', '238', '239', '240', '241', '242', '243', '244', '245', '246', '247', '248', '249', '250', '252', '253', '254', '255', '256', '257', '258', '259', '260', '261', '262', '263', '264', '265', '266', '267', '268', '273', '274', '275']\n"
     ]
    }
   ],
   "source": [
    "dir_name=os.listdir('./dataset_augmentated/images')\n",
    "print(dir_name)\n",
    "\n",
    "for name,clean in zip(dir_name,cleaned_name):\n",
    "    os.rename('./dataset_augmentated/images/'+name,'./dataset_augmentated/images/'+clean)\n",
    "\n",
    "    "
   ]
  },
  {
   "cell_type": "code",
   "execution_count": null,
   "metadata": {},
   "outputs": [],
   "source": []
  }
 ],
 "metadata": {
  "kernelspec": {
   "display_name": "Python 3",
   "language": "python",
   "name": "python3"
  },
  "language_info": {
   "codemirror_mode": {
    "name": "ipython",
    "version": 3
   },
   "file_extension": ".py",
   "mimetype": "text/x-python",
   "name": "python",
   "nbconvert_exporter": "python",
   "pygments_lexer": "ipython3",
   "version": "3.7.4"
  }
 },
 "nbformat": 4,
 "nbformat_minor": 2
}
